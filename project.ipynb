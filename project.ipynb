{
 "cells": [
  {
   "cell_type": "markdown",
   "metadata": {},
   "source": [
    "<h1 align=\"center\">Sistema Predictivo de Planes Móviles - Introducción al Machine Learning</h1>\n",
    "\n",
    "La compañía de telecomunicaciones Megaline no está satisfecha al observar que muchos de sus clientes siguen utilizando planes antiguos. La empresa desea desarrollar un modelo que analice el comportamiento de los clientes y recomiende uno de los nuevos planes de Megaline: Smart o Ultra.\n",
    "\n",
    "El proyecto cuenta con acceso a los datos de comportamiento de los suscriptores que ya han cambiado a los nuevos planes. **El objetivo de esta tarea de clasificación es crear un modelo que seleccione el plan adecuado para los clientes.** \n",
    "\n",
    "El reto consiste en desarrollar un modelo con la mayor *precisión* posible. En este proyecto, el umbral de *precisión* es del 75%. El dataset proporcionado debe utilizarse para comprobar la *precisión* del modelo.\n",
    "\n",
    "## Instrucciones del Proyecto\n",
    "\n",
    "1. Examina el archivo de datos que se encuentra en el siguiente directorio: `./datasets/users_behavior.csv`.\n",
    "2. Segmentar los datos en un conjunto de entrenamiento, uno de validación y uno de prueba.\n",
    "3. Evaluar la calidad de diferentes modelos ajustando los hiperparámetros y describir brevemente los resultados obtenidos.\n",
    "4. Verificar la calidad del modelo utilizando el conjunto de prueba.\n",
    "\n",
    "## Diccionario de datos\n",
    "\n",
    "Cada observación en el dataset contiene información mensual sobre el comportamiento de un usuario. \n",
    "\n",
    "La información proporcionada incluye:\n",
    "\n",
    "    - `calls`: Número de llamadas.\n",
    "    - `minutes`: Duración total de las llamadas en minutos.\n",
    "    - `messages`: Número de mensajes de texto.\n",
    "    - `mb_used`: Tráfico de Internet utilizado en MB.\n",
    "    - `is_ultra`: Plan correspondiente al mes actual (Ultra - 1, Smart - 0)."
   ]
  },
  {
   "cell_type": "markdown",
   "metadata": {},
   "source": [
    "# Contenido <a id='back'></a>\n",
    "\n",
    "* [Desarrollo del proyecto](#develop)\n",
    "    * [Segmentación de los datos fuente en un conjuntos de entrenamiento, validación y prueba](#segmentation) \n",
    "    * [Evaluar la calidad de diferentes modelos ajustando los hiperparámetros](#evaluate_models)\n",
    "    * [Verificar la calidad del modelo utilizando el conjunto de prueba](#verify)\n",
    "* [Conclusión](#end)"
   ]
  },
  {
   "cell_type": "markdown",
   "metadata": {},
   "source": [
    "## Desarrollo del proyecto <a id='develop'></a>"
   ]
  },
  {
   "cell_type": "code",
   "execution_count": 1,
   "metadata": {},
   "outputs": [],
   "source": [
    "import pandas as pd\n",
    "\n",
    "from sklearn.model_selection import train_test_split\n",
    "from sklearn.tree import DecisionTreeClassifier\n",
    "from sklearn.ensemble import RandomForestClassifier\n",
    "from sklearn.linear_model import LogisticRegression"
   ]
  },
  {
   "cell_type": "code",
   "execution_count": 2,
   "metadata": {},
   "outputs": [],
   "source": [
    "# Acceso a los registros del recurso \"users behavior\"\n",
    "\n",
    "df_megaline = pd.read_csv('./datasets/users_behavior.csv')"
   ]
  },
  {
   "cell_type": "code",
   "execution_count": 3,
   "metadata": {},
   "outputs": [
    {
     "name": "stdout",
     "output_type": "stream",
     "text": [
      "\u001b[1m Muestra aleatoria de filas del DataFrame 'users behavior':\n"
     ]
    },
    {
     "data": {
      "text/html": [
       "<div>\n",
       "<style scoped>\n",
       "    .dataframe tbody tr th:only-of-type {\n",
       "        vertical-align: middle;\n",
       "    }\n",
       "\n",
       "    .dataframe tbody tr th {\n",
       "        vertical-align: top;\n",
       "    }\n",
       "\n",
       "    .dataframe thead th {\n",
       "        text-align: right;\n",
       "    }\n",
       "</style>\n",
       "<table border=\"1\" class=\"dataframe\">\n",
       "  <thead>\n",
       "    <tr style=\"text-align: right;\">\n",
       "      <th></th>\n",
       "      <th>calls</th>\n",
       "      <th>minutes</th>\n",
       "      <th>messages</th>\n",
       "      <th>mb_used</th>\n",
       "      <th>is_ultra</th>\n",
       "    </tr>\n",
       "  </thead>\n",
       "  <tbody>\n",
       "    <tr>\n",
       "      <th>2397</th>\n",
       "      <td>51.0</td>\n",
       "      <td>375.07</td>\n",
       "      <td>117.0</td>\n",
       "      <td>6967.00</td>\n",
       "      <td>0</td>\n",
       "    </tr>\n",
       "    <tr>\n",
       "      <th>2967</th>\n",
       "      <td>80.0</td>\n",
       "      <td>583.37</td>\n",
       "      <td>58.0</td>\n",
       "      <td>20898.57</td>\n",
       "      <td>1</td>\n",
       "    </tr>\n",
       "    <tr>\n",
       "      <th>2393</th>\n",
       "      <td>51.0</td>\n",
       "      <td>360.56</td>\n",
       "      <td>53.0</td>\n",
       "      <td>19683.68</td>\n",
       "      <td>0</td>\n",
       "    </tr>\n",
       "    <tr>\n",
       "      <th>1827</th>\n",
       "      <td>78.0</td>\n",
       "      <td>569.16</td>\n",
       "      <td>19.0</td>\n",
       "      <td>16795.58</td>\n",
       "      <td>0</td>\n",
       "    </tr>\n",
       "    <tr>\n",
       "      <th>2624</th>\n",
       "      <td>58.0</td>\n",
       "      <td>373.66</td>\n",
       "      <td>22.0</td>\n",
       "      <td>19410.70</td>\n",
       "      <td>0</td>\n",
       "    </tr>\n",
       "    <tr>\n",
       "      <th>696</th>\n",
       "      <td>56.0</td>\n",
       "      <td>338.17</td>\n",
       "      <td>37.0</td>\n",
       "      <td>21337.74</td>\n",
       "      <td>0</td>\n",
       "    </tr>\n",
       "    <tr>\n",
       "      <th>2845</th>\n",
       "      <td>105.0</td>\n",
       "      <td>711.11</td>\n",
       "      <td>21.0</td>\n",
       "      <td>24619.57</td>\n",
       "      <td>1</td>\n",
       "    </tr>\n",
       "    <tr>\n",
       "      <th>1491</th>\n",
       "      <td>63.0</td>\n",
       "      <td>385.09</td>\n",
       "      <td>18.0</td>\n",
       "      <td>14518.03</td>\n",
       "      <td>0</td>\n",
       "    </tr>\n",
       "    <tr>\n",
       "      <th>758</th>\n",
       "      <td>45.0</td>\n",
       "      <td>319.26</td>\n",
       "      <td>26.0</td>\n",
       "      <td>13376.33</td>\n",
       "      <td>0</td>\n",
       "    </tr>\n",
       "    <tr>\n",
       "      <th>1454</th>\n",
       "      <td>71.0</td>\n",
       "      <td>544.49</td>\n",
       "      <td>35.0</td>\n",
       "      <td>14460.01</td>\n",
       "      <td>0</td>\n",
       "    </tr>\n",
       "    <tr>\n",
       "      <th>1681</th>\n",
       "      <td>12.0</td>\n",
       "      <td>76.97</td>\n",
       "      <td>0.0</td>\n",
       "      <td>1893.18</td>\n",
       "      <td>0</td>\n",
       "    </tr>\n",
       "    <tr>\n",
       "      <th>869</th>\n",
       "      <td>69.0</td>\n",
       "      <td>482.18</td>\n",
       "      <td>40.0</td>\n",
       "      <td>11178.07</td>\n",
       "      <td>1</td>\n",
       "    </tr>\n",
       "    <tr>\n",
       "      <th>243</th>\n",
       "      <td>121.0</td>\n",
       "      <td>765.61</td>\n",
       "      <td>53.0</td>\n",
       "      <td>21445.05</td>\n",
       "      <td>1</td>\n",
       "    </tr>\n",
       "    <tr>\n",
       "      <th>1692</th>\n",
       "      <td>88.0</td>\n",
       "      <td>527.40</td>\n",
       "      <td>0.0</td>\n",
       "      <td>14467.95</td>\n",
       "      <td>0</td>\n",
       "    </tr>\n",
       "    <tr>\n",
       "      <th>1512</th>\n",
       "      <td>30.0</td>\n",
       "      <td>223.58</td>\n",
       "      <td>51.0</td>\n",
       "      <td>10845.54</td>\n",
       "      <td>1</td>\n",
       "    </tr>\n",
       "  </tbody>\n",
       "</table>\n",
       "</div>"
      ],
      "text/plain": [
       "      calls  minutes  messages   mb_used  is_ultra\n",
       "2397   51.0   375.07     117.0   6967.00         0\n",
       "2967   80.0   583.37      58.0  20898.57         1\n",
       "2393   51.0   360.56      53.0  19683.68         0\n",
       "1827   78.0   569.16      19.0  16795.58         0\n",
       "2624   58.0   373.66      22.0  19410.70         0\n",
       "696    56.0   338.17      37.0  21337.74         0\n",
       "2845  105.0   711.11      21.0  24619.57         1\n",
       "1491   63.0   385.09      18.0  14518.03         0\n",
       "758    45.0   319.26      26.0  13376.33         0\n",
       "1454   71.0   544.49      35.0  14460.01         0\n",
       "1681   12.0    76.97       0.0   1893.18         0\n",
       "869    69.0   482.18      40.0  11178.07         1\n",
       "243   121.0   765.61      53.0  21445.05         1\n",
       "1692   88.0   527.40       0.0  14467.95         0\n",
       "1512   30.0   223.58      51.0  10845.54         1"
      ]
     },
     "metadata": {},
     "output_type": "display_data"
    },
    {
     "name": "stdout",
     "output_type": "stream",
     "text": [
      "\u001b[1m Resumen del DataFrame 'users behavior':\u001b[0m \n",
      "\n",
      "<class 'pandas.core.frame.DataFrame'>\n",
      "RangeIndex: 3214 entries, 0 to 3213\n",
      "Data columns (total 5 columns):\n",
      " #   Column    Non-Null Count  Dtype  \n",
      "---  ------    --------------  -----  \n",
      " 0   calls     3214 non-null   float64\n",
      " 1   minutes   3214 non-null   float64\n",
      " 2   messages  3214 non-null   float64\n",
      " 3   mb_used   3214 non-null   float64\n",
      " 4   is_ultra  3214 non-null   int64  \n",
      "dtypes: float64(4), int64(1)\n",
      "memory usage: 125.7 KB\n"
     ]
    }
   ],
   "source": [
    "# Obtener información general sobre los registros del DataFrame 'users behavior'\n",
    "\n",
    "print(\"\\033[1m Muestra aleatoria de filas del DataFrame 'users behavior':\")\n",
    "\n",
    "display(df_megaline.sample(15, random_state=1425))\n",
    "\n",
    "print(\"\\033[1m Resumen del DataFrame 'users behavior':\\033[0m \\n\")\n",
    "\n",
    "df_megaline.info()"
   ]
  },
  {
   "cell_type": "markdown",
   "metadata": {},
   "source": [
    "El DataFrame `df_megaline` contiene un total de 3214 registros. Las columnas tienen los tipos de datos adecuados para su contenido: las variables numéricas (`calls`, `minutes`, `messages`, `mb_used`) están representadas como tipo `float64`, lo cual es apropiado para medidas continuas, mientras que la variable objetivo (`is_ultra`) está representada como tipo `int64`, indicando una clasificación binaria codificada como 0 y 1 (Smart y Ultra respectivamente)."
   ]
  },
  {
   "cell_type": "markdown",
   "metadata": {},
   "source": [
    "[Volver a Contenidos](#back)"
   ]
  },
  {
   "cell_type": "markdown",
   "metadata": {},
   "source": [
    "## Segmentación de los datos fuente en un conjuntos de entrenamiento, validación y prueba <a id='segmentation'></a>"
   ]
  },
  {
   "cell_type": "code",
   "execution_count": 4,
   "metadata": {},
   "outputs": [],
   "source": [
    "\n",
    "# Segmentación de datos\n",
    "\n",
    "df_training , df_test_validation =  train_test_split(df_megaline, test_size=0.4, random_state=789)\n",
    "\n",
    "df_test, df_validation = train_test_split(df_test_validation, test_size=0.20, random_state=789)\n",
    "\n",
    "\n",
    "# Features and targets \n",
    "features_training = df_training.drop('is_ultra', axis=1)\n",
    "target_training = df_training['is_ultra']\n",
    "\n",
    "features_validation = df_validation.drop('is_ultra', axis=1)\n",
    "target_validation = df_validation['is_ultra']\n",
    "\n",
    "features_test = df_test.drop('is_ultra', axis=1)\n",
    "target_test = df_test['is_ultra']\n"
   ]
  },
  {
   "cell_type": "markdown",
   "metadata": {},
   "source": [
    "[Volver a Contenidos](#back)"
   ]
  },
  {
   "cell_type": "markdown",
   "metadata": {},
   "source": [
    "## Evaluar la calidad de diferentes modelos ajustando los hiperparámetros <a id=\"evaluate_models\"></a>"
   ]
  },
  {
   "cell_type": "code",
   "execution_count": 5,
   "metadata": {},
   "outputs": [
    {
     "name": "stdout",
     "output_type": "stream",
     "text": [
      "En el modelo 'DecisionTreeClassifier' se logra la mejor exactitud (0.7596899224806202) con una produndidad de 7 nodos\n",
      "En el modelo 'RandomForestClassifier' se logra la mejor exactitud (0.7674418604651163) con un total de 6 árboles y una produndidad de 8 nodos\n",
      "En el modelo 'LogisticRegression' se logra la mejor exactitud (0.6782945736434108)\n"
     ]
    }
   ],
   "source": [
    "# Investigación de la calidad de los diferentes modelos cambiando sus hiperparámetros.\n",
    "\n",
    "# DecisionTreeClassifier\n",
    "\n",
    "best_score = 0\n",
    "best_depth = 0\n",
    "best_model_tree = None\n",
    "for depth in range(1, 11):\n",
    "    model_tree = DecisionTreeClassifier(random_state = 459, max_depth = depth)\n",
    "    model_tree.fit(features_training, target_training)\n",
    "    score = model_tree.score(features_validation, target_validation)\n",
    "    if score > best_score:\n",
    "        best_score = score\n",
    "        best_depth = depth\n",
    "        best_model_tree = model_tree\n",
    "print(\"En el modelo 'DecisionTreeClassifier' se logra la mejor exactitud ({}) con una produndidad de {} nodos\".format(best_score, best_depth))\n",
    "\n",
    "\n",
    "# RandomForestClassifier\n",
    "\n",
    "best_score_forest = 0\n",
    "best_depth_forest = 0\n",
    "best_estimators = 0\n",
    "best_model_forest = None\n",
    "for est in range(1, 10):\n",
    "    for depth in range(1, 10):\n",
    "        model_forest = RandomForestClassifier(random_state=459, max_depth=depth, n_estimators=est)\n",
    "        model_forest.fit(features_training, target_training)\n",
    "        score = model_forest.score(features_validation, target_validation)\n",
    "        if score > best_score_forest:\n",
    "            best_score_forest = score\n",
    "            best_depth_forest = depth\n",
    "            best_estimators = est\n",
    "            best_model_forest = model_forest\n",
    "print(\"En el modelo 'RandomForestClassifier' se logra la mejor exactitud ({}) con un total de {} árboles y una produndidad de {} nodos\".format(best_score_forest,best_estimators, best_depth_forest))\n",
    "\n",
    "  \n",
    "# LogisticRegression\n",
    "model_regression = LogisticRegression(random_state=459, solver='liblinear')\n",
    "model_regression.fit(features_training, target_training)\n",
    "score = model_regression.score(features_validation, target_validation)\n",
    "print(\"En el modelo 'LogisticRegression' se logra la mejor exactitud ({})\".format(score))\n"
   ]
  },
  {
   "cell_type": "markdown",
   "metadata": {},
   "source": [
    "---\n",
    "**Análisis**\n",
    "\n",
    "Dada la investigación sobre la calidad de diferentes modelos variando sus hiperparámetros, se encontró que el modelo 'RandomForestClassifier' alcanzó la mayor precisión, con un 76.74%, utilizando un total de 6 árboles con una profundidad de 8 nodos. El modelo 'DecisionTreeClassifier' logró una precisión del 75.97% con una profundidad de 7 nodos. Sin embargo, la regresión logística no logró igualar el rendimiento de los otros modelos, con una precisión de apenas el 67.83%. En resumen, los hallazgos indican que el modelo de bosque aleatorio es efectivo para predecir el comportamiento de los clientes y recomendar los planes de Megaline."
   ]
  },
  {
   "cell_type": "markdown",
   "metadata": {},
   "source": [
    "[Volver a Contenidos](#back)"
   ]
  },
  {
   "cell_type": "markdown",
   "metadata": {},
   "source": [
    "## Verificar la calidad del modelo utilizando el conjunto de prueba <a id=\"verify\"></a>"
   ]
  },
  {
   "cell_type": "code",
   "execution_count": 6,
   "metadata": {},
   "outputs": [
    {
     "name": "stdout",
     "output_type": "stream",
     "text": [
      "Precisión del modelo en el conjunto de prueba: 0.8093385214007782\n"
     ]
    }
   ],
   "source": [
    "# Comprobar la calidad del modelo\n",
    "\n",
    "score_test = best_model_forest.score(features_test, target_test)\n",
    "\n",
    "print(\"Precisión del modelo en el conjunto de prueba:\", score_test)\n"
   ]
  },
  {
   "cell_type": "markdown",
   "metadata": {},
   "source": [
    "[Volver a Contenidos](#back)"
   ]
  },
  {
   "cell_type": "markdown",
   "metadata": {},
   "source": [
    "Después de comprobar la calidad del modelo utilizando el conjunto de prueba, se obtuvo una precisión impresionante de aproximadamente 80.93%. Este resultado confirma la robustez del modelo seleccionado, el RandomForestClassifier con los hiperparámetros óptimos, para predecir el comportamiento de los clientes y recomendar los planes de Megaline. La precisión del 80.93% indica que el modelo es capaz de clasificar correctamente la gran mayoría de los casos en el conjunto de prueba, lo que sugiere que puede ser confiable para su implementación en la práctica. Esto respalda aún más la elección de este modelo como el más adecuado para la tarea en cuestión y refuerza su utilidad para ayudar a Megaline a tomar decisiones informadas sobre sus planes de telefonía móvil."
   ]
  },
  {
   "cell_type": "markdown",
   "metadata": {},
   "source": [
    "## Conclusión <a id=\"end\"></a>"
   ]
  },
  {
   "cell_type": "markdown",
   "metadata": {},
   "source": [
    "\r\n",
    "En este proyecto, se desarrolló un modelo de machine learning con el objetivo de predecir el comportamiento de los clientes de la compañía de telecomunicaciones Megaline y recomendar uno de sus nuevos planes: Smart o Ultra. A través de un análisis exhaustivo de varios modelos de clasificación y la optimización de sus hiperparámetros, se determinó que el modelo *RandomForestClassifier* era el más efectivo, alcanzando una precisión del 76.74% durante las pruebas iniciales.\r\n",
    "\r\n",
    "El *RandomForestClassifier* demostró su superioridad en comparación con otros modelos, como el *DecisionTreeClassifier* y la regresión logística, destacándose como el mejor para la tarea de clasificación en cuestión. Tras la evaluación final utilizando un conjunto de prueba independiente, el modelo alcanzó una impresionante precisión del 80.93%, lo que sugiere que es altamente efectivo para clasificar correctamente el plan adecuado para la mayoría de los clientes.\r\n",
    "\r\n",
    "Estos resultados refuerzan la confiabilidad del modelo seleccionado y su potencial para ser implementado en la práctica. Megaline puede utilizar este modelo para tomar decisiones informadas, mejorando así la experiencia de sus clientes al recomendarles los planes más adecuados según su comportamiento. En resumen, el proyecto ha cumplido su objetivo de desarrollar un modelo predictivo robusto y preciso, capaz de aportar un valor significativo a la estrategia comercial de Megaline."
   ]
  },
  {
   "cell_type": "markdown",
   "metadata": {},
   "source": [
    "[Volver a Contenidos](#back)"
   ]
  }
 ],
 "metadata": {
  "kernelspec": {
   "display_name": "Python 3 (ipykernel)",
   "language": "python",
   "name": "python3"
  },
  "language_info": {
   "codemirror_mode": {
    "name": "ipython",
    "version": 3
   },
   "file_extension": ".py",
   "mimetype": "text/x-python",
   "name": "python",
   "nbconvert_exporter": "python",
   "pygments_lexer": "ipython3",
   "version": "3.12.4"
  },
  "toc": {
   "base_numbering": 1,
   "nav_menu": {},
   "number_sections": true,
   "sideBar": true,
   "skip_h1_title": true,
   "title_cell": "Table of Contents",
   "title_sidebar": "Contents",
   "toc_cell": false,
   "toc_position": {},
   "toc_section_display": true,
   "toc_window_display": false
  }
 },
 "nbformat": 4,
 "nbformat_minor": 4
}
